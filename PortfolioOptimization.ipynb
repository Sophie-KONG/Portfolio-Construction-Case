{
 "cells": [
  {
   "cell_type": "code",
   "execution_count": 1,
   "metadata": {},
   "outputs": [],
   "source": [
    "import pandas as pd\n",
    "import numpy as np\n",
    "from math import sqrt"
   ]
  },
  {
   "cell_type": "code",
   "execution_count": 2,
   "metadata": {
    "scrolled": true
   },
   "outputs": [
    {
     "name": "stdout",
     "output_type": "stream",
     "text": [
      "[[-9.11718567e-03  9.90486152e-03  8.43282713e-04  1.23050870e-02\n",
      "   9.88632651e-03 -2.09698309e-03 -7.47316681e-03 -1.78666352e-03\n",
      "  -4.69037554e-03  2.48766163e-03  1.07900661e-02  1.44686806e-03\n",
      "  -5.76588778e-03  2.10004026e-03 -1.56610087e-04  1.37810051e-03\n",
      "  -2.71651730e-04 -2.78681654e-03  4.05374370e-03  4.09738670e-03\n",
      "  -1.05821475e-02  6.40437964e-03  9.67002405e-03  6.08175379e-03\n",
      "   1.73205345e-03  5.36157435e-03  4.55463439e-03 -5.16776190e-03\n",
      "  -5.25475203e-03 -3.85097918e-04 -1.36119421e-03  7.80484514e-03\n",
      "  -1.35257190e-03  3.44048126e-03  2.43742263e-03 -4.31982036e-03\n",
      "  -5.00823000e-03  8.81651634e-03  1.98581206e-03 -1.89254549e-03\n",
      "  -3.66113800e-03 -1.09613051e-02  8.39118083e-03  1.46295783e-03\n",
      "  -1.07748898e-02 -4.63636600e-03  2.40518149e-03 -1.35265698e-03\n",
      "   5.31977156e-03 -5.02564036e-03 -9.28579369e-03 -1.26864616e-02\n",
      "   2.52276879e-03  3.87401329e-03  5.10998141e-03 -1.41372156e-02\n",
      "   5.63647067e-03  1.66597914e-04 -4.06994975e-03 -6.77646208e-03]\n",
      " [-1.40912303e-02  2.89604509e-02  1.33312348e-02 -2.17508749e-02\n",
      "   2.89294677e-02 -8.23062794e-04 -2.85032696e-03 -1.51748745e-05\n",
      "   7.92810173e-03 -1.86964137e-03  5.21221054e-04 -1.03965614e-02\n",
      "   1.02021972e-02  8.31008830e-03  4.50332904e-03 -1.30788587e-02\n",
      "  -8.13241499e-03  2.83992880e-02  3.82835939e-03  2.46701394e-03\n",
      "   5.43579162e-03 -6.11098950e-03 -8.17880762e-04  3.77250597e-03\n",
      "   3.11031180e-02  5.54337523e-03 -3.35799773e-03  1.52108757e-02\n",
      "   8.66731005e-03 -2.71233731e-03 -8.47813801e-03  4.05284111e-03\n",
      "  -2.65620702e-03  2.17620068e-02  1.16526922e-03 -1.40823867e-02\n",
      "   6.68709116e-03 -1.51061791e-02  4.89658433e-03 -7.12416865e-03\n",
      "   3.85083847e-03 -6.80178638e-03  2.61909909e-03  8.95291988e-03\n",
      "  -7.10083016e-03 -6.91499148e-03  1.40528939e-02  1.31962281e-02\n",
      "  -6.55493701e-03 -4.97773795e-03  2.81533899e-03 -2.25149288e-02\n",
      "   2.29180071e-02 -1.12688371e-02 -9.90203862e-04  5.10081100e-03\n",
      "  -1.43923198e-02 -7.63706563e-05 -7.63954736e-03  1.05914632e-02]\n",
      " [ 7.85010938e-03 -4.81121586e-03  1.06311571e-02 -3.79805890e-03\n",
      "   2.16639987e-03  1.17135044e-03 -7.66551210e-03 -2.60804498e-03\n",
      "   2.77770527e-04  1.91765702e-03  6.68027885e-03 -8.51493753e-04\n",
      "  -6.14072709e-03 -5.50040076e-03 -1.27736031e-03 -2.33444446e-03\n",
      "  -2.85750749e-03 -1.08209431e-03  2.97920141e-03 -3.31371493e-03\n",
      "  -6.30575767e-04 -4.42050126e-03  2.74887243e-03  1.02196324e-03\n",
      "   2.68419677e-03 -9.69963674e-04  4.87191656e-03  9.65195011e-03\n",
      "   2.96711465e-03  4.66897047e-03  2.99014768e-03  4.87880333e-03\n",
      "   6.35936103e-03  9.43876599e-03  7.99610984e-03  2.39090077e-03\n",
      "   1.92006081e-03  6.63476795e-03  2.69571201e-03 -8.97394366e-03\n",
      "   8.36537229e-04 -3.31049769e-03 -1.08449206e-03  4.70645246e-03\n",
      "   2.21825094e-03 -2.30195815e-03 -6.21227943e-03 -3.88814129e-03\n",
      "   1.28909521e-02 -1.33209698e-03 -2.63825321e-03  4.82498104e-03\n",
      "   1.12874081e-02 -5.22642407e-03 -2.49610429e-03 -3.47406965e-03\n",
      "  -3.54216876e-04  2.96752468e-03  1.31690140e-03 -1.75330606e-03]\n",
      " [ 2.88345472e-03 -8.06252272e-03  8.38898117e-03  3.78958681e-04\n",
      "   2.23985112e-03 -2.31197071e-03  8.89747211e-03 -4.99289435e-03\n",
      "   3.49545208e-03 -9.64349618e-03  7.52248318e-03  2.35843646e-03\n",
      "   9.96025984e-03  1.04799796e-02  1.38629250e-03 -5.23769994e-03\n",
      "  -2.54890295e-03  7.49926768e-03 -1.38917322e-02 -3.18269489e-03\n",
      "   7.30877934e-03 -6.83813913e-04  1.71246892e-02 -1.14129556e-02\n",
      "  -2.42185019e-03 -9.97824209e-03 -7.19744706e-03 -2.27297210e-03\n",
      "  -1.04289973e-02 -5.46331729e-03 -3.40121550e-03 -8.01729237e-04\n",
      "   3.69148102e-03  6.58815646e-03  3.41507750e-03 -8.92234648e-03\n",
      "   4.64905208e-03  1.65352852e-03 -1.90367885e-03  4.18227211e-04\n",
      "  -8.52946780e-04  8.20792462e-05 -5.14591489e-03  1.46512308e-03\n",
      "   5.98473858e-04 -9.87669163e-03  1.10418208e-02  3.80846947e-03\n",
      "  -4.12270081e-03 -5.89727433e-03  8.34207124e-03 -1.74284616e-02\n",
      "  -2.99480965e-03 -3.43505803e-03  6.71197181e-03  9.41285115e-03\n",
      "  -9.71404540e-03 -3.05396417e-03 -1.09056856e-03  3.19833605e-03]\n",
      " [ 1.67611629e-02  5.00437250e-03 -2.25558032e-03  1.40693419e-03\n",
      "   1.84395319e-02  3.60802549e-03  4.90286651e-03  9.36491997e-03\n",
      "   6.96363641e-03 -3.22332105e-04  1.47026788e-02  6.22416257e-03\n",
      "  -9.04473953e-03  2.15134758e-03 -1.31304594e-02 -1.22992011e-02\n",
      "  -1.24656085e-03 -4.49445531e-03  5.01882024e-03 -1.11759216e-03\n",
      "  -5.75792714e-03  3.09732339e-03  2.02236934e-02  5.89411469e-03\n",
      "   1.53838565e-02  9.27963587e-03  2.24395261e-03  3.91218401e-03\n",
      "  -9.53410879e-03  9.42834325e-03  1.83362299e-02  2.54955765e-03\n",
      "   1.45129264e-03  4.25036959e-03 -5.94532424e-03 -7.76916349e-03\n",
      "   6.02548926e-03  3.11374408e-03 -3.65241746e-03 -8.65932792e-03\n",
      "  -4.41697124e-03 -1.34266643e-02 -3.41571391e-03 -1.62269865e-03\n",
      "  -1.11634049e-02 -4.82144233e-03 -3.03196361e-02 -3.17219901e-03\n",
      "   6.57910320e-03 -5.92217741e-03 -5.95805551e-03 -7.76030399e-03\n",
      "   4.12924853e-03 -2.17072154e-03 -2.48052596e-03 -2.42868516e-03\n",
      "   2.69281107e-03  1.12270808e-03 -2.10410570e-03 -7.46735154e-03]\n",
      " [ 1.20085165e-02 -8.83530701e-03  2.46970168e-03 -1.07853830e-03\n",
      "   9.40564800e-03 -2.68549111e-03 -3.27985072e-03  2.54173041e-03\n",
      "   4.49759841e-03 -4.58943748e-03 -3.47615557e-03  1.20812848e-02\n",
      "   1.46175632e-03  1.03677751e-02 -9.35046443e-03 -9.31069603e-03\n",
      "   4.13938379e-03  4.70985956e-03  3.36062038e-03 -1.01874380e-02\n",
      "   3.08261432e-03  1.03443903e-03 -1.04481759e-02 -4.07591470e-04\n",
      "   4.72390490e-03  2.65527736e-03 -2.14708886e-03  3.21498725e-03\n",
      "  -3.47619484e-03  3.18961403e-03  5.31618035e-04  2.60524425e-03\n",
      "  -7.73998366e-04 -2.37571366e-04 -6.80632245e-03  1.70637089e-03\n",
      "  -6.87490712e-03 -1.58890450e-04  2.77733741e-04 -8.19496022e-03\n",
      "   1.21300198e-02 -7.44045865e-04 -4.81910175e-03  6.46658373e-03\n",
      "  -5.76675842e-03 -9.53509689e-03 -5.18176229e-03 -5.64258937e-03\n",
      "   1.39621752e-02 -6.03702705e-03  7.63988901e-03 -7.02018779e-03\n",
      "   8.55095210e-03  4.34039159e-03  5.26474712e-03 -7.94882169e-03\n",
      "   2.62601786e-03  9.46762953e-04  3.01136916e-04  1.37813025e-03]\n",
      " [-6.03656195e-03 -3.37811526e-03 -1.49054900e-02  9.24930034e-03\n",
      "  -1.28546098e-03  2.34128581e-02 -1.17661706e-02 -1.34134807e-03\n",
      "   2.16872719e-02 -1.11013729e-02  2.07141976e-03 -6.50201623e-03\n",
      "   1.56949416e-03  2.29726395e-03  3.30468988e-02  8.47755287e-03\n",
      "  -3.45064810e-02 -2.15796542e-02  2.02720132e-02 -6.42084893e-03\n",
      "   2.46296406e-03 -1.32448039e-02  8.82814270e-03  9.21181953e-03\n",
      "   3.72588202e-03  2.19251489e-03  7.87823559e-03  2.53861414e-03\n",
      "   2.87006104e-03  3.88552917e-03  1.17122367e-02  1.47180783e-02\n",
      "   1.18324460e-02  3.55907102e-03 -2.01510053e-03  3.13033960e-03\n",
      "   4.11584912e-03 -3.26505645e-03 -2.78505841e-04 -9.36476017e-03\n",
      "  -5.07264786e-03 -2.98841141e-03 -9.85215864e-03  6.69175570e-03\n",
      "   7.79836605e-04  6.05380932e-03 -9.41240952e-03 -5.78170978e-03\n",
      "   3.06111284e-03 -1.07546709e-02 -4.10451533e-03 -3.05132335e-03\n",
      "  -1.07704482e-02  1.26683167e-02 -3.17078518e-06  4.58689807e-03\n",
      "  -9.61314332e-03  2.43371102e-02  3.20173744e-03  8.44431238e-03]]\n"
     ]
    }
   ],
   "source": [
    "# Read Data\n",
    "data = pd.read_excel(\"C:/Users/Hasee/Desktop/CaseStudy/MonthlyExcessReturn.xlsx\")\n",
    "data = np.array(data).transpose()\n",
    "print(data)"
   ]
  },
  {
   "cell_type": "code",
   "execution_count": 3,
   "metadata": {},
   "outputs": [
    {
     "name": "stdout",
     "output_type": "stream",
     "text": [
      "(7, 60)\n"
     ]
    }
   ],
   "source": [
    "print(data.shape)"
   ]
  },
  {
   "cell_type": "code",
   "execution_count": 4,
   "metadata": {},
   "outputs": [],
   "source": [
    "#numpy is imported as np\n",
    "#Generate Manager selection\n",
    "def NextManagerSelect(ExManagerVec):\n",
    "    #Number: int, between 0 and 63\n",
    "    #ExManagerVec: 6 elements\n",
    "    Bits = np.array([32,16,8,4,2,1])\n",
    "    Number = np.sum(np.multiply(ExManagerVec,Bits))+1\n",
    "    for i in range(6):\n",
    "        ExManagerVec[i] = int(Number/Bits[i])#int(Number/(2**(5-i)))\n",
    "        Number %= Bits[i]\n",
    "    return(ExManagerVec)"
   ]
  },
  {
   "cell_type": "code",
   "execution_count": 6,
   "metadata": {},
   "outputs": [
    {
     "name": "stdout",
     "output_type": "stream",
     "text": [
      "[[ 1.          0.11145757  0.12233711 -0.07395283  0.36937777  0.03716419\n",
      "   0.04149738]\n",
      " [ 0.11145757  1.          0.0818742   0.2752012   0.09655982  0.11791328\n",
      "  -0.05061536]\n",
      " [ 0.12233711  0.0818742   1.         -0.12740021  0.36027696  0.2780763\n",
      "   0.13654294]\n",
      " [-0.07395283  0.2752012  -0.12740021  1.         -0.01254514  0.07725377\n",
      "  -0.08824404]\n",
      " [ 0.36937777  0.09655982  0.36027696 -0.01254514  1.          0.32083468\n",
      "   0.12355423]\n",
      " [ 0.03716419  0.11791328  0.2780763   0.07725377  0.32083468  1.\n",
      "  -0.10802196]\n",
      " [ 0.04149738 -0.05061536  0.13654294 -0.08824404  0.12355423 -0.10802196\n",
      "   1.        ]]\n"
     ]
    },
    {
     "data": {
      "text/plain": [
       "numpy.ndarray"
      ]
     },
     "execution_count": 6,
     "metadata": {},
     "output_type": "execute_result"
    }
   ],
   "source": [
    "CorrelMat = pd.read_excel(\"C:/Users/Hasee/Desktop/CaseStudy/CorrelationMat.xlsx\")\n",
    "CorrelMat = CorrelMat.to_numpy()\n",
    "print(CorrelMat)\n",
    "type(CorrelMat)"
   ]
  },
  {
   "cell_type": "code",
   "execution_count": 6,
   "metadata": {},
   "outputs": [
    {
     "name": "stdout",
     "output_type": "stream",
     "text": [
      "[[0.35 0.2  0.1  0.2  0.45 0.15 0.2 ]\n",
      " [0.35 0.1  0.1  0.2  0.15 0.35 0.3 ]\n",
      " [0.2  0.25 0.25 0.3  0.3  0.3  0.2 ]\n",
      " [0.1  0.45 0.55 0.3  0.1  0.2  0.3 ]]\n"
     ]
    }
   ],
   "source": [
    "StyleExpMat = pd.read_excel(\"C:/Users/Hasee/Desktop/CaseStudy/StyleExposure.xlsx\")\n",
    "StyleExpMat = StyleExpMat.to_numpy()\n",
    "print(StyleExpMat)"
   ]
  },
  {
   "cell_type": "code",
   "execution_count": 11,
   "metadata": {
    "scrolled": true
   },
   "outputs": [
    {
     "name": "stdout",
     "output_type": "stream",
     "text": [
      "           W_APG   W_Gamma   W_Delta  W_Epsilon    W_Zeta   W_Kappa  W_Lambda  \\\n",
      "0   5.000000e-01  0.000000  0.000000   0.000000  0.000000  0.000000  0.500000   \n",
      "1   7.822443e-14  0.000000  0.000000   0.000000  0.000000  1.000000  0.000000   \n",
      "2   3.333333e-01  0.000000  0.000000   0.000000  0.000000  0.333333  0.333333   \n",
      "3   3.333333e-01  0.000000  0.000000   0.000000  0.333333  0.000000  0.333333   \n",
      "4   3.333333e-01  0.000000  0.000000   0.000000  0.333333  0.333333  0.000000   \n",
      "..           ...       ...       ...        ...       ...       ...       ...   \n",
      "57  1.357356e-02  0.189722  0.181318   0.202328  0.000000  0.210731  0.202328   \n",
      "58  2.000000e-01  0.200000  0.200000   0.200000  0.200000  0.000000  0.000000   \n",
      "59  1.357356e-02  0.197285  0.197285   0.197285  0.197285  0.000000  0.197285   \n",
      "60  1.357356e-02  0.197285  0.197285   0.197285  0.197285  0.197285  0.000000   \n",
      "61  1.425803e-01  0.142903  0.142903   0.142903  0.142903  0.142903  0.142903   \n",
      "\n",
      "    InformationRatio      Return  TrackingError        Fee  SE_Value  \\\n",
      "0        5279.642155  119.999998       0.022729  15.000000  0.275000   \n",
      "1        5000.000000  100.000000       0.020000  16.000000  0.150000   \n",
      "2        7053.863184  113.333330       0.016067  15.333333  0.233333   \n",
      "3        6406.213328  130.000001       0.020293  17.000000  0.333333   \n",
      "4        6129.324189  103.333334       0.016859  14.333333  0.316667   \n",
      "..               ...         ...            ...        ...       ...   \n",
      "57       9671.382792  152.915346       0.015811  18.384635  0.173368   \n",
      "58       8388.279786  141.999998       0.016928  15.800000  0.260000   \n",
      "59       9342.859298  164.561201       0.017614  19.218114  0.231629   \n",
      "60       8735.133742  148.778378       0.017032  17.639832  0.221765   \n",
      "61       9706.169237  141.454869       0.014574  17.003552  0.235677   \n",
      "\n",
      "    SE_Quality  SE_Momentum  SE_Alt/Innov  \n",
      "0     0.325000     0.200000      0.200000  \n",
      "1     0.350000     0.300000      0.200000  \n",
      "2     0.333333     0.233333      0.200000  \n",
      "3     0.266667     0.233333      0.166667  \n",
      "4     0.283333     0.266667      0.133333  \n",
      "..         ...          ...           ...  \n",
      "57    0.216774     0.259858      0.350000  \n",
      "58    0.180000     0.260000      0.300000  \n",
      "59    0.172443     0.259186      0.336742  \n",
      "60    0.182308     0.278914      0.317014  \n",
      "61    0.221387     0.257161      0.285774  \n",
      "\n",
      "[62 rows x 15 columns]\n"
     ]
    }
   ],
   "source": [
    "from scipy.optimize import minimize\n",
    "\n",
    "# Write down given parameters\n",
    "TeVec = np.array([0.02, 0.05, 0.03, 0.015, 0.03, 0.02, 0.04])\n",
    "RtVec = np.array([60, 220, 180, 100, 150, 100, 180])\n",
    "FeeVec = np.array([6, 32, 2, 18, 21, 16, 24])\n",
    "\n",
    "# Initialize combination\n",
    "Mg0 = np.array([1])\n",
    "MgEx = np.array([0,0,0,0,0,0])\n",
    "\n",
    "FeasibleSolutions = pd.DataFrame(columns=['W_APG','W_Gamma','W_Delta','W_Epsilon','W_Zeta','W_Kappa','W_Lambda','InformationRatio',\\\n",
    "                                         'Return','TrackingError','Fee','SE_Value','SE_Quality','SE_Momentum','SE_Alt/Innov'])\n",
    "\n",
    "# The objective Function to minimize (least-squares regression)\n",
    "obj = lambda WtVec,MgVec,TeVec,CorrelMat: np.dot( np.dot((MgVec*TeVec*WtVec),CorrelMat), (MgVec*TeVec*WtVec).transpose() ) \\\n",
    "/ (np.sum(MgVec*WtVec*RtVec)**2)\n",
    "\n",
    "# Bounds:\n",
    "bnds = [(0, 1), (0, 1), (0, 1), (0, 1), (0, 1), (0, 1), (0, 1)]\n",
    "\n",
    "# Initial guess for b[1], b[2], b[3]:\n",
    "xinit = np.array([0.1428, 0.1428, 0.1428, 0.1428, 0.1428, 0.1428, 0.1428])\n",
    "\n",
    "for i in range(64):\n",
    "    MgVec = np.append(Mg0,MgEx)\n",
    "    # Constraint:\n",
    "    cons = (\n",
    "        # Weights: sum == 1\n",
    "        {\"type\": \"eq\", \"fun\": lambda WtVec: np.sum(MgVec * WtVec)-1},\n",
    "        {\"type\": \"eq\", \"fun\": lambda WtVec: np.sum(WtVec)-1},\n",
    "\n",
    "        # Returns: (100 -- 120)\n",
    "        {\"type\": \"ineq\", \"fun\": lambda WtVec: np.sum( MgVec * WtVec * RtVec ) - 100},\n",
    "        #{\"type\": \"ineq\", \"fun\": lambda WtVec: - np.sum( MgVec * WtVec * RtVec ) + 120},\n",
    "        \n",
    "        # Tracking Error Square < (2.5%)**2 #2.4%\n",
    "        {\"type\": \"ineq\", \"fun\": lambda WtVec: - np.dot(np.dot((MgVec*TeVec*WtVec),CorrelMat),(MgVec*TeVec*WtVec).transpose()) + (0.025)**2},\n",
    "\n",
    "        # Fee < 20 bp\n",
    "        {\"type\": \"ineq\", \"fun\": lambda WtVec: - np.sum( MgVec * WtVec * FeeVec ) + 20},\n",
    "        \n",
    "        # Diversification: (15% -- 35%)\n",
    "        {\"type\": \"ineq\", \"fun\": lambda WtVec: - np.sum( MgVec * WtVec * StyleExpMat[0,:]) + 0.35},\n",
    "        #{\"type\": \"ineq\", \"fun\": lambda WtVec:   np.sum( MgVec * WtVec * StyleExpMat[0,:]) - 0.15},\n",
    "        \n",
    "        {\"type\": \"ineq\", \"fun\": lambda WtVec: - np.sum( MgVec * WtVec * StyleExpMat[1,:]) + 0.35},\n",
    "        #{\"type\": \"ineq\", \"fun\": lambda WtVec:   np.sum( MgVec * WtVec * StyleExpMat[1,:]) - 0.15},\n",
    "        \n",
    "        {\"type\": \"ineq\", \"fun\": lambda WtVec: - np.sum( MgVec * WtVec * StyleExpMat[2,:]) + 0.35},\n",
    "        #{\"type\": \"ineq\", \"fun\": lambda WtVec:   np.sum( MgVec * WtVec * StyleExpMat[2,:]) - 0.15},\n",
    "        \n",
    "        {\"type\": \"ineq\", \"fun\": lambda WtVec: - np.sum( MgVec * WtVec * StyleExpMat[3,:]) + 0.35},\n",
    "        #{\"type\": \"ineq\", \"fun\": lambda WtVec:   np.sum( MgVec * WtVec * StyleExpMat[3,:]) - 0.15},\n",
    "       )\n",
    "    res = minimize(obj, args=(MgVec,TeVec,CorrelMat), x0=xinit, bounds=bnds, constraints=cons)\n",
    "    \n",
    "    # Result: Weights, Information Ratio, Return, Tracking Error, Fee, \n",
    "    if(res.success):\n",
    "        SolutionTemp = pd.Series({'W_APG':(res.x*MgVec)[0],'W_Gamma':(res.x*MgVec)[1],'W_Delta':(res.x*MgVec)[2],\\\n",
    "                                  'W_Epsilon':(res.x*MgVec)[3],'W_Zeta':(res.x*MgVec)[4],'W_Kappa':(res.x*MgVec)[5],\\\n",
    "                                  'W_Lambda':(res.x*MgVec)[6],'InformationRatio':1/sqrt(res.fun),'Return':sum(res.x*RtVec),\\\n",
    "                                  'TrackingError':sum(res.x*RtVec)*sqrt(res.fun),'Fee':sum(res.x*FeeVec),\\\n",
    "                                  'SE_Value':sum(res.x*StyleExpMat[0,:]),'SE_Quality':sum(res.x*StyleExpMat[1,:]),\\\n",
    "                                  'SE_Momentum':sum(res.x*StyleExpMat[2,:]),'SE_Alt/Innov':sum(res.x*StyleExpMat[3,:])})\n",
    "        FeasibleSolutions = FeasibleSolutions.append(SolutionTemp,ignore_index=True)\n",
    "        #print('\\nManager Selection:\\n',MgVec,'\\nInformation Ratio:\\n',1/sqrt(res.fun),'\\nTracking Error:\\n',\n",
    "        #  sum(res.x*RtVec)*sqrt(res.fun),'\\nReturn:\\n',sum(res.x*RtVec),'\\nWeights:\\n',res.x*MgVec)\n",
    "    \n",
    "    MgEx = NextManagerSelect(MgEx)\n",
    "    \n",
    "print(FeasibleSolutions)"
   ]
  },
  {
   "cell_type": "code",
   "execution_count": 12,
   "metadata": {},
   "outputs": [],
   "source": [
    "FeasibleSolutions.to_csv('Solutions_r2.csv')"
   ]
  },
  {
   "cell_type": "code",
   "execution_count": 166,
   "metadata": {},
   "outputs": [
    {
     "data": {
      "text/plain": [
       "'\\nTeVec = np.array([0.02, 0.05, 0.03, 0.015, 0.03, 0.02, 0.04])\\nMgVec = np.array([1, 1, 0, 0, 0, 0, 0])\\nRtVec = np.array([60, 220, 180, 100, 150, 100, 180])\\nFeeVec = np.array([6, 32, 2, 18, 21, 16, 24])\\nWtVec = np.array([0.5,0.5,0,0,0,0,0])\\nnp.dot(np.dot((MgVec*TeVec*WtVec),CorrelMat),(MgVec*TeVec*WtVec).transpose())\\n'"
      ]
     },
     "execution_count": 166,
     "metadata": {},
     "output_type": "execute_result"
    }
   ],
   "source": [
    "'''\n",
    "TeVec = np.array([0.02, 0.05, 0.03, 0.015, 0.03, 0.02, 0.04])\n",
    "MgVec = np.array([1, 1, 0, 0, 0, 0, 0])\n",
    "RtVec = np.array([60, 220, 180, 100, 150, 100, 180])\n",
    "FeeVec = np.array([6, 32, 2, 18, 21, 16, 24])\n",
    "WtVec = np.array([0.5,0.5,0,0,0,0,0])\n",
    "np.dot(np.dot((MgVec*TeVec*WtVec),CorrelMat),(MgVec*TeVec*WtVec).transpose())\n",
    "'''"
   ]
  },
  {
   "cell_type": "code",
   "execution_count": 1,
   "metadata": {},
   "outputs": [
    {
     "data": {
      "text/plain": [
       "0.000576"
      ]
     },
     "execution_count": 1,
     "metadata": {},
     "output_type": "execute_result"
    }
   ],
   "source": [
    "(0.024)**2"
   ]
  },
  {
   "cell_type": "code",
   "execution_count": null,
   "metadata": {},
   "outputs": [],
   "source": []
  }
 ],
 "metadata": {
  "kernelspec": {
   "display_name": "Python 3",
   "language": "python",
   "name": "python3"
  },
  "language_info": {
   "codemirror_mode": {
    "name": "ipython",
    "version": 3
   },
   "file_extension": ".py",
   "mimetype": "text/x-python",
   "name": "python",
   "nbconvert_exporter": "python",
   "pygments_lexer": "ipython3",
   "version": "3.7.4"
  }
 },
 "nbformat": 4,
 "nbformat_minor": 2
}
